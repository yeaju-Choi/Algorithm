{
 "cells": [
  {
   "cell_type": "markdown",
   "id": "b6223156",
   "metadata": {},
   "source": [
    "# 1783_병든 나이트 \n",
    "https://www.acmicpc.net/problem/1783\n",
    "\n",
    "---\n"
   ]
  },
  {
   "cell_type": "markdown",
   "id": "2ae616cc",
   "metadata": {},
   "source": [
    "### 문제\n",
    "병든 나이트가 N × M 크기 체스판의 가장 왼쪽아래 칸에 위치해 있다. 병든 나이트는 건강한 보통 체스의 나이트와 다르게 4가지로만 움직일 수 있다.\n",
    "\n",
    "1. 2칸 위로, 1칸 오른쪽\n",
    "2. 1칸 위로, 2칸 오른쪽\n",
    "3. 1칸 아래로, 2칸 오른쪽\n",
    "4. 2칸 아래로, 1칸 오른쪽\n",
    "\n",
    "병든 나이트는 여행을 시작하려고 하고, 여행을 하면서 방문한 칸의 수를 최대로 하려고 한다. 병든 나이트의 이동 횟수가 4번보다 적지 않다면, 이동 방법을 모두 한 번씩 사용해야 한다. 이동 횟수가 4번보다 적은 경우(방문한 칸이 5개 미만)에는 이동 방법에 대한 제약이 없다.\n",
    "\n",
    "체스판의 크기가 주어졌을 때, 병든 나이트가 여행에서 방문할 수 있는 칸의 최대 개수를 구해보자"
   ]
  },
  {
   "cell_type": "markdown",
   "id": "b4743a91",
   "metadata": {},
   "source": [
    "### 입력 \n",
    "\n",
    "첫째 줄에 체스판의 세로 길이 N와 가로 길이 M이 주어진다. N과 M은 2,000,000,000보다 작거나 같은 자연수이다."
   ]
  },
  {
   "cell_type": "markdown",
   "id": "f58c1146",
   "metadata": {},
   "source": [
    "### 출력\n",
    "\n",
    "병든 나이트가 여행에서 방문할 수 있는 칸의 개수중 최댓값을 출력한다."
   ]
  },
  {
   "cell_type": "code",
   "execution_count": null,
   "id": "30016c47",
   "metadata": {},
   "outputs": [],
   "source": [
    "def dfs(chessboard,x,y,n,m):\n",
    "    if x < 0 or x >= n or y < 0 or y >= m:\n",
    "        return \n",
    "    \n",
    "    if chessboard[x][y] == False:\n",
    "        chessboarad[x][y] = True\n",
    "        \n",
    "        dfs(chessboard,x+1,y+2,n,m)\n",
    "        dfs(chessboard,x+2,y+1,n,m)\n",
    "        dfs(chessboard,x+2,y-1,n,m)\n",
    "        dfs(chessboard,x+1,y-2,n,m)\n",
    "  \n",
    "       "
   ]
  },
  {
   "cell_type": "code",
   "execution_count": null,
   "id": "67c8bed5",
   "metadata": {},
   "outputs": [],
   "source": [
    "answer = 0\n",
    "n,m = map(int,input().split(\" \"))\n",
    "chessboard = [[False]*m for _ in range(n)]\n",
    "\n",
    "# position = [(1,2),(2,1),(1,-1),(2,-2)]\n",
    "# dx = [1,2,1,2]\n",
    "# dy = [2,1,-1,-2] \n",
    "\n",
    "# nightPos = (2,0) # n-1 , 0 \n",
    "\n",
    "dfs(chessboard,n-1,0,n,m)\n",
    "\n",
    "for row in chessboard:\n",
    "    for item in row:\n",
    "        if item:\n",
    "            answer += 1\n",
    "\n",
    "\n",
    "print(chessboard)\n",
    "print(answer)\n"
   ]
  },
  {
   "cell_type": "code",
   "execution_count": null,
   "id": "08ddb123",
   "metadata": {},
   "outputs": [],
   "source": []
  }
 ],
 "metadata": {
  "kernelspec": {
   "display_name": "Python 3 (ipykernel)",
   "language": "python",
   "name": "python3"
  },
  "language_info": {
   "codemirror_mode": {
    "name": "ipython",
    "version": 3
   },
   "file_extension": ".py",
   "mimetype": "text/x-python",
   "name": "python",
   "nbconvert_exporter": "python",
   "pygments_lexer": "ipython3",
   "version": "3.9.7"
  }
 },
 "nbformat": 4,
 "nbformat_minor": 5
}
